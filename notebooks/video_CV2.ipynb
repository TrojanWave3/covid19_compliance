{
 "cells": [
  {
   "cell_type": "code",
   "execution_count": null,
   "metadata": {},
   "outputs": [],
   "source": [
    "import cv2"
   ]
  },
  {
   "cell_type": "code",
   "execution_count": null,
   "metadata": {},
   "outputs": [],
   "source": [
    "# clip_path = '../test_videos/'\n",
    "# video_file = 'tyler1.mp4'\n",
    "\n",
    "# vidcap = cv2.VideoCapture('{}{}'.format(clip_path, video_file))"
   ]
  },
  {
   "cell_type": "code",
   "execution_count": null,
   "metadata": {},
   "outputs": [],
   "source": [
    "#vidcap"
   ]
  },
  {
   "cell_type": "code",
   "execution_count": null,
   "metadata": {},
   "outputs": [],
   "source": [
    "# success,image = vidcap.read()"
   ]
  },
  {
   "cell_type": "code",
   "execution_count": null,
   "metadata": {},
   "outputs": [],
   "source": [
    "# success"
   ]
  },
  {
   "cell_type": "code",
   "execution_count": null,
   "metadata": {},
   "outputs": [],
   "source": [
    "image.shape"
   ]
  },
  {
   "cell_type": "code",
   "execution_count": null,
   "metadata": {},
   "outputs": [],
   "source": [
    "clip_path = '../test_videos/'\n",
    "video_file = 'tyler1.mp4'\n",
    "\n",
    "vidcap = cv2.VideoCapture('{}{}'.format(clip_path, video_file))\n",
    "\n",
    "success,frame = vidcap.read()\n",
    "\n",
    "writer = None\n",
    "\n",
    "count = 0\n",
    "while success:\n",
    "    success, frame = vidcap.read()\n",
    "    save_path = 'frames_test/{}_frame.jpg'\n",
    "    cv2.imwrite(save_path.format(count), frame)\n",
    "    count += 1\n",
    "    \n",
    "    if count == 3:\n",
    "        break\n",
    "    # check if the video writer is None\n",
    "    if writer is None:\n",
    "        # initialize our video writer\n",
    "        fourcc = cv2.VideoWriter_fourcc(*\"MJPG\")\n",
    "        writer = cv2.VideoWriter('video_test/', fourcc, 30,\n",
    "            (W, H), True)\n",
    "    # write the output frame to disk\n",
    "    writer.write(output)"
   ]
  },
  {
   "cell_type": "code",
   "execution_count": null,
   "metadata": {},
   "outputs": [],
   "source": [
    "from collections import deque"
   ]
  },
  {
   "cell_type": "code",
   "execution_count": null,
   "metadata": {},
   "outputs": [],
   "source": [
    "Q = deque(maxlen = 128)"
   ]
  },
  {
   "cell_type": "code",
   "execution_count": null,
   "metadata": {},
   "outputs": [],
   "source": [
    "Q"
   ]
  },
  {
   "cell_type": "code",
   "execution_count": null,
   "metadata": {
    "scrolled": true
   },
   "outputs": [],
   "source": [
    "a = 'test_videos/tyler1.mp4'\n",
    "a[12:-4]"
   ]
  },
  {
   "cell_type": "code",
   "execution_count": null,
   "metadata": {},
   "outputs": [],
   "source": [
    "startX = 5\n",
    "endX = 20\n",
    "startY = 3\n",
    "endY = 50"
   ]
  },
  {
   "cell_type": "code",
   "execution_count": null,
   "metadata": {},
   "outputs": [],
   "source": [
    "(max(startX - endX, startY - endY))"
   ]
  },
  {
   "cell_type": "code",
   "execution_count": null,
   "metadata": {},
   "outputs": [],
   "source": [
    "cv2.circle(image, (int((startX + endX)/2)), (int((startY + endY)/2)), \n",
    "                       int(max(endX - startX, endY - startY)), color, 8)"
   ]
  },
  {
   "cell_type": "code",
   "execution_count": null,
   "metadata": {},
   "outputs": [],
   "source": []
  },
  {
   "cell_type": "code",
   "execution_count": null,
   "metadata": {},
   "outputs": [],
   "source": []
  },
  {
   "cell_type": "markdown",
   "metadata": {},
   "source": [
    "## predict_images"
   ]
  },
  {
   "cell_type": "code",
   "execution_count": 1,
   "metadata": {},
   "outputs": [],
   "source": [
    "from tensorflow.keras.applications.mobilenet_v2 import preprocess_input\n",
    "from tensorflow.keras.preprocessing.image import img_to_array\n",
    "from tensorflow.keras.models import load_model\n",
    "import numpy as np \n",
    "import argparse \n",
    "import cv2 \n",
    "import os "
   ]
  },
  {
   "cell_type": "code",
   "execution_count": 2,
   "metadata": {},
   "outputs": [
    {
     "name": "stdout",
     "output_type": "stream",
     "text": [
      "...Loading Face Mask Detector Model...\n"
     ]
    }
   ],
   "source": [
    "print(\"...Loading Face Mask Detector Model...\")\n",
    "model_path = '../models/face_mask_detector.model'\n",
    "model = load_model(model_path)"
   ]
  },
  {
   "cell_type": "code",
   "execution_count": 17,
   "metadata": {},
   "outputs": [],
   "source": [
    "# read image using cv2\n",
    "image = cv2.imread('../test_images/tyler.jpg')"
   ]
  },
  {
   "cell_type": "code",
   "execution_count": null,
   "metadata": {},
   "outputs": [],
   "source": [
    "# # grab the image spatial dimensions\n",
    "# h, w = image.shape[:2]"
   ]
  },
  {
   "cell_type": "code",
   "execution_count": null,
   "metadata": {},
   "outputs": [],
   "source": [
    "# # use cv2 to create a blob from the image\n",
    "# blob = cv2.dnn.blobFromImage(image, 1.0, (300, 300),\n",
    "#         (104.0, 177.0, 123.0))"
   ]
  },
  {
   "cell_type": "code",
   "execution_count": 18,
   "metadata": {},
   "outputs": [],
   "source": [
    "# make copy of image, \n",
    "# convert from BGR to RGB, resize to 224x224, and preprocess it\n",
    "img = image.copy()\n",
    "img = cv2.cvtColor(img, cv2.COLOR_BGR2RGB)\n",
    "img = cv2.resize(img, (224, 224))\n",
    "img = img_to_array(img)\n",
    "img = preprocess_input(img)\n",
    "img = np.expand_dims(img, axis=0)"
   ]
  },
  {
   "cell_type": "code",
   "execution_count": 19,
   "metadata": {},
   "outputs": [],
   "source": [
    "# use model to predict on the image\n",
    "mask, without_mask = model.predict(img)[0]"
   ]
  },
  {
   "cell_type": "code",
   "execution_count": 20,
   "metadata": {},
   "outputs": [],
   "source": [
    "# generate a label and color using the prediction\n",
    "if mask > without_mask:\n",
    "    label = \"Mask\"\n",
    "    color = (255, 255, 0)\n",
    "else:\n",
    "    label = \"No Mask\"\n",
    "    color = (245, 66, 221)"
   ]
  },
  {
   "cell_type": "code",
   "execution_count": 21,
   "metadata": {},
   "outputs": [],
   "source": [
    "# include the probability in the label\n",
    "label = \"{}: {}%\".format(label, int(max(mask, without_mask) * 100))"
   ]
  },
  {
   "cell_type": "code",
   "execution_count": 22,
   "metadata": {},
   "outputs": [
    {
     "data": {
      "text/plain": [
       "array([[[ 23,  44,  96],\n",
       "        [ 25,  46,  98],\n",
       "        [ 24,  45,  97],\n",
       "        ...,\n",
       "        [ 46,  70, 112],\n",
       "        [ 46,  70, 112],\n",
       "        [ 46,  70, 112]],\n",
       "\n",
       "       [[ 24,  45,  97],\n",
       "        [ 25,  46,  98],\n",
       "        [ 23,  44,  96],\n",
       "        ...,\n",
       "        [ 44,  68, 110],\n",
       "        [ 45,  69, 111],\n",
       "        [ 45,  69, 111]],\n",
       "\n",
       "       [[ 24,  45,  97],\n",
       "        [ 23,  44,  96],\n",
       "        [ 21,  42,  94],\n",
       "        ...,\n",
       "        [ 43,  67, 109],\n",
       "        [ 44,  68, 110],\n",
       "        [ 45,  69, 111]],\n",
       "\n",
       "       ...,\n",
       "\n",
       "       [[ 68,  80, 104],\n",
       "        [ 68,  80, 104],\n",
       "        [ 69,  79, 103],\n",
       "        ...,\n",
       "        [156, 157, 161],\n",
       "        [157, 158, 162],\n",
       "        [158, 159, 163]],\n",
       "\n",
       "       [[ 70,  79, 106],\n",
       "        [ 68,  77, 104],\n",
       "        [ 67,  76, 103],\n",
       "        ...,\n",
       "        [155, 156, 160],\n",
       "        [156, 157, 161],\n",
       "        [157, 158, 162]],\n",
       "\n",
       "       [[ 70,  79, 106],\n",
       "        [ 67,  76, 103],\n",
       "        [ 65,  74, 101],\n",
       "        ...,\n",
       "        [155, 156, 160],\n",
       "        [156, 157, 161],\n",
       "        [157, 158, 162]]], dtype=uint8)"
      ]
     },
     "execution_count": 22,
     "metadata": {},
     "output_type": "execute_result"
    }
   ],
   "source": [
    "# display label on the image\n",
    "cv2.putText(image, label, (60, 60), cv2.FONT_HERSHEY_TRIPLEX,2, color, 1)"
   ]
  },
  {
   "cell_type": "code",
   "execution_count": null,
   "metadata": {},
   "outputs": [],
   "source": [
    "# show the output image\n",
    "#cv2.imshow(\"Mask Detector\", image)\n",
    "#cv2.waitKey(0) "
   ]
  },
  {
   "cell_type": "code",
   "execution_count": 23,
   "metadata": {},
   "outputs": [
    {
     "name": "stdout",
     "output_type": "stream",
     "text": [
      "...Saving Predicted Image...\n"
     ]
    },
    {
     "data": {
      "text/plain": [
       "True"
      ]
     },
     "execution_count": 23,
     "metadata": {},
     "output_type": "execute_result"
    }
   ],
   "source": [
    "# save the image\n",
    "print('...Saving Predicted Image...')\n",
    "filepath = '{}'.format('tyler_test.jpeg')\n",
    "#print('The image path is {}'.format(filepath))\n",
    "cv2.imwrite(filepath, image)"
   ]
  },
  {
   "cell_type": "code",
   "execution_count": null,
   "metadata": {},
   "outputs": [],
   "source": [
    "image"
   ]
  },
  {
   "cell_type": "code",
   "execution_count": null,
   "metadata": {},
   "outputs": [],
   "source": [
    "cv2.imshow(\"Mask Detector\", image)"
   ]
  },
  {
   "cell_type": "code",
   "execution_count": null,
   "metadata": {},
   "outputs": [],
   "source": []
  }
 ],
 "metadata": {
  "kernelspec": {
   "display_name": "Python 3",
   "language": "python",
   "name": "python3"
  },
  "language_info": {
   "codemirror_mode": {
    "name": "ipython",
    "version": 3
   },
   "file_extension": ".py",
   "mimetype": "text/x-python",
   "name": "python",
   "nbconvert_exporter": "python",
   "pygments_lexer": "ipython3",
   "version": "3.7.6"
  }
 },
 "nbformat": 4,
 "nbformat_minor": 4
}
