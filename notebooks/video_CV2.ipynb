{
 "cells": [
  {
   "cell_type": "code",
   "execution_count": 1,
   "metadata": {},
   "outputs": [],
   "source": [
    "import cv2"
   ]
  },
  {
   "cell_type": "code",
   "execution_count": 17,
   "metadata": {},
   "outputs": [],
   "source": [
    "# clip_path = '../test_videos/'\n",
    "# video_file = 'tyler1.mp4'\n",
    "\n",
    "# vidcap = cv2.VideoCapture('{}{}'.format(clip_path, video_file))"
   ]
  },
  {
   "cell_type": "code",
   "execution_count": 18,
   "metadata": {},
   "outputs": [
    {
     "data": {
      "text/plain": [
       "<VideoCapture 0x7efe9b0454d0>"
      ]
     },
     "execution_count": 18,
     "metadata": {},
     "output_type": "execute_result"
    }
   ],
   "source": [
    "#vidcap"
   ]
  },
  {
   "cell_type": "code",
   "execution_count": 19,
   "metadata": {},
   "outputs": [],
   "source": [
    "# success,image = vidcap.read()"
   ]
  },
  {
   "cell_type": "code",
   "execution_count": 20,
   "metadata": {},
   "outputs": [
    {
     "data": {
      "text/plain": [
       "True"
      ]
     },
     "execution_count": 20,
     "metadata": {},
     "output_type": "execute_result"
    }
   ],
   "source": [
    "# success"
   ]
  },
  {
   "cell_type": "code",
   "execution_count": 21,
   "metadata": {},
   "outputs": [
    {
     "data": {
      "text/plain": [
       "(720, 1080, 3)"
      ]
     },
     "execution_count": 21,
     "metadata": {},
     "output_type": "execute_result"
    }
   ],
   "source": [
    "image.shape"
   ]
  },
  {
   "cell_type": "code",
   "execution_count": 27,
   "metadata": {},
   "outputs": [
    {
     "ename": "NameError",
     "evalue": "name 'W' is not defined",
     "output_type": "error",
     "traceback": [
      "\u001b[0;31m---------------------------------------------------------------------------\u001b[0m",
      "\u001b[0;31mNameError\u001b[0m                                 Traceback (most recent call last)",
      "\u001b[0;32m<ipython-input-27-1d354b4d4abe>\u001b[0m in \u001b[0;36m<module>\u001b[0;34m\u001b[0m\n\u001b[1;32m     22\u001b[0m         \u001b[0mfourcc\u001b[0m \u001b[0;34m=\u001b[0m \u001b[0mcv2\u001b[0m\u001b[0;34m.\u001b[0m\u001b[0mVideoWriter_fourcc\u001b[0m\u001b[0;34m(\u001b[0m\u001b[0;34m*\u001b[0m\u001b[0;34m\"MJPG\"\u001b[0m\u001b[0;34m)\u001b[0m\u001b[0;34m\u001b[0m\u001b[0;34m\u001b[0m\u001b[0m\n\u001b[1;32m     23\u001b[0m         writer = cv2.VideoWriter('video_test/', fourcc, 30,\n\u001b[0;32m---> 24\u001b[0;31m             (W, H), True)\n\u001b[0m\u001b[1;32m     25\u001b[0m     \u001b[0;31m# write the output frame to disk\u001b[0m\u001b[0;34m\u001b[0m\u001b[0;34m\u001b[0m\u001b[0;34m\u001b[0m\u001b[0m\n\u001b[1;32m     26\u001b[0m     \u001b[0mwriter\u001b[0m\u001b[0;34m.\u001b[0m\u001b[0mwrite\u001b[0m\u001b[0;34m(\u001b[0m\u001b[0moutput\u001b[0m\u001b[0;34m)\u001b[0m\u001b[0;34m\u001b[0m\u001b[0;34m\u001b[0m\u001b[0m\n",
      "\u001b[0;31mNameError\u001b[0m: name 'W' is not defined"
     ]
    }
   ],
   "source": [
    "clip_path = '../test_videos/'\n",
    "video_file = 'tyler1.mp4'\n",
    "\n",
    "vidcap = cv2.VideoCapture('{}{}'.format(clip_path, video_file))\n",
    "\n",
    "success,frame = vidcap.read()\n",
    "\n",
    "writer = None\n",
    "\n",
    "count = 0\n",
    "while success:\n",
    "    success, frame = vidcap.read()\n",
    "    save_path = 'frames_test/{}_frame.jpg'\n",
    "    cv2.imwrite(save_path.format(count), frame)\n",
    "    count += 1\n",
    "    \n",
    "    if count == 3:\n",
    "        break\n",
    "    # check if the video writer is None\n",
    "    if writer is None:\n",
    "        # initialize our video writer\n",
    "        fourcc = cv2.VideoWriter_fourcc(*\"MJPG\")\n",
    "        writer = cv2.VideoWriter('video_test/', fourcc, 30,\n",
    "            (W, H), True)\n",
    "    # write the output frame to disk\n",
    "    writer.write(output)"
   ]
  },
  {
   "cell_type": "code",
   "execution_count": 28,
   "metadata": {},
   "outputs": [],
   "source": [
    "from collections import deque"
   ]
  },
  {
   "cell_type": "code",
   "execution_count": 30,
   "metadata": {},
   "outputs": [],
   "source": [
    "Q = deque(maxlen = 128)"
   ]
  },
  {
   "cell_type": "code",
   "execution_count": 31,
   "metadata": {},
   "outputs": [
    {
     "data": {
      "text/plain": [
       "deque([])"
      ]
     },
     "execution_count": 31,
     "metadata": {},
     "output_type": "execute_result"
    }
   ],
   "source": [
    "Q"
   ]
  },
  {
   "cell_type": "code",
   "execution_count": 1,
   "metadata": {
    "scrolled": true
   },
   "outputs": [
    {
     "data": {
      "text/plain": [
       "'tyler1'"
      ]
     },
     "execution_count": 1,
     "metadata": {},
     "output_type": "execute_result"
    }
   ],
   "source": [
    "a = 'test_videos/tyler1.mp4'\n",
    "a[12:-4]"
   ]
  },
  {
   "cell_type": "code",
   "execution_count": 2,
   "metadata": {},
   "outputs": [],
   "source": [
    "startX = 5\n",
    "endX = 20\n",
    "startY = 3\n",
    "endY = 50"
   ]
  },
  {
   "cell_type": "code",
   "execution_count": 4,
   "metadata": {},
   "outputs": [
    {
     "data": {
      "text/plain": [
       "-15"
      ]
     },
     "execution_count": 4,
     "metadata": {},
     "output_type": "execute_result"
    }
   ],
   "source": [
    "(max(startX - endX, startY - endY))"
   ]
  },
  {
   "cell_type": "code",
   "execution_count": null,
   "metadata": {},
   "outputs": [],
   "source": [
    "cv2.circle(image, (int((startX + endX)/2)), (int((startY + endY)/2)), \n",
    "                       int(max(endX - startX, endY - startY)), color, 8)"
   ]
  },
  {
   "cell_type": "code",
   "execution_count": null,
   "metadata": {},
   "outputs": [],
   "source": []
  },
  {
   "cell_type": "code",
   "execution_count": null,
   "metadata": {},
   "outputs": [],
   "source": []
  },
  {
   "cell_type": "markdown",
   "metadata": {},
   "source": [
    "## predict_images"
   ]
  },
  {
   "cell_type": "code",
   "execution_count": 1,
   "metadata": {},
   "outputs": [],
   "source": [
    "from tensorflow.keras.applications.mobilenet_v2 import preprocess_input\n",
    "from tensorflow.keras.preprocessing.image import img_to_array\n",
    "from tensorflow.keras.models import load_model\n",
    "import numpy as np \n",
    "import argparse \n",
    "import cv2 \n",
    "import os "
   ]
  },
  {
   "cell_type": "code",
   "execution_count": 2,
   "metadata": {},
   "outputs": [
    {
     "name": "stdout",
     "output_type": "stream",
     "text": [
      "...Loading Face Mask Detector Model...\n"
     ]
    }
   ],
   "source": [
    "print(\"...Loading Face Mask Detector Model...\")\n",
    "model_path = '../models/face_mask_detector.model'\n",
    "model = load_model(model_path)"
   ]
  },
  {
   "cell_type": "code",
   "execution_count": 3,
   "metadata": {},
   "outputs": [],
   "source": [
    "# read image using cv2\n",
    "image = cv2.imread('../test_images/tyler.jpg')"
   ]
  },
  {
   "cell_type": "code",
   "execution_count": 5,
   "metadata": {},
   "outputs": [],
   "source": [
    "# grab the image spatial dimensions\n",
    "h, w = image.shape[:2]"
   ]
  },
  {
   "cell_type": "code",
   "execution_count": 8,
   "metadata": {},
   "outputs": [],
   "source": [
    "# use cv2 to create a blob from the image\n",
    "blob = cv2.dnn.blobFromImage(image, 1.0, (300, 300),\n",
    "        (104.0, 177.0, 123.0))"
   ]
  },
  {
   "cell_type": "code",
   "execution_count": 12,
   "metadata": {},
   "outputs": [],
   "source": [
    "# convert from BGR to RGB, resize to 224x224, and preprocess it\n",
    "image = cv2.cvtColor(image, cv2.COLOR_BGR2RGB)\n",
    "image = cv2.resize(image, (224, 224))\n",
    "image = img_to_array(image)\n",
    "image = preprocess_input(image)\n",
    "image = np.expand_dims(image, axis=0)"
   ]
  },
  {
   "cell_type": "code",
   "execution_count": 19,
   "metadata": {},
   "outputs": [],
   "source": [
    "# use model to predict on the image\n",
    "mask, without_mask = model.predict(image)[0]"
   ]
  },
  {
   "cell_type": "code",
   "execution_count": 20,
   "metadata": {},
   "outputs": [],
   "source": [
    "# generate a label and color using the prediction\n",
    "if mask > without_mask:\n",
    "    label = \"Mask\"\n",
    "    color = (255, 255, 0)\n",
    "else:\n",
    "    label = \"No Mask\"\n",
    "    color = (245, 66, 221)"
   ]
  },
  {
   "cell_type": "code",
   "execution_count": 22,
   "metadata": {},
   "outputs": [],
   "source": [
    "# include the probability in the label\n",
    "label = \"{}: {}%\".format(label, int(max(mask, without_mask) * 100))"
   ]
  },
  {
   "cell_type": "code",
   "execution_count": 24,
   "metadata": {},
   "outputs": [
    {
     "data": {
      "text/plain": [
       "array([[[[-0.24705881, -0.654902  , -0.81960785],\n",
       "         [-0.2235294 , -0.62352943, -0.77254903],\n",
       "         [-0.23921567, -0.6313726 , -0.77254903],\n",
       "         ...,\n",
       "         [-0.18431371, -0.5137255 , -0.70980394],\n",
       "         [-0.17647058, -0.5137255 , -0.7019608 ],\n",
       "         [-0.1372549 , -0.46666664, -0.654902  ]],\n",
       "\n",
       "        [[-0.25490195, -0.6627451 , -0.827451  ],\n",
       "         [-0.23137254, -0.6313726 , -0.78039217],\n",
       "         [-0.20784312, -0.60784316, -0.75686276],\n",
       "         ...,\n",
       "         [-0.14509803, -0.5058824 , -0.69411767],\n",
       "         [-0.1607843 , -0.4980392 , -0.6862745 ],\n",
       "         [-0.1372549 , -0.46666664, -0.654902  ]],\n",
       "\n",
       "        [[-0.19999999, -0.60784316, -0.77254903],\n",
       "         [-0.19999999, -0.60784316, -0.77254903],\n",
       "         [-0.20784312, -0.60784316, -0.7647059 ],\n",
       "         ...,\n",
       "         [-0.03529412, -0.41176468, -0.6       ],\n",
       "         [-0.09019607, -0.45098037, -0.6392157 ],\n",
       "         [-0.17647058, -0.5137255 , -0.7019608 ]],\n",
       "\n",
       "        ...,\n",
       "\n",
       "        [[-0.19999999, -0.372549  , -0.4823529 ],\n",
       "         [-0.16862744, -0.34117645, -0.42745095],\n",
       "         [-0.18431371, -0.3333333 , -0.42745095],\n",
       "         ...,\n",
       "         [ 0.23921573,  0.1686275 ,  0.15294123],\n",
       "         [ 0.27843142,  0.21568632,  0.20784318],\n",
       "         [ 0.2941177 ,  0.254902  ,  0.2313726 ]],\n",
       "\n",
       "        [[-0.19215685, -0.372549  , -0.47450978],\n",
       "         [-0.1607843 , -0.34117645, -0.40392154],\n",
       "         [-0.15294117, -0.32549018, -0.40392154],\n",
       "         ...,\n",
       "         [ 0.24705887,  0.18431377,  0.1686275 ],\n",
       "         [ 0.26274514,  0.21568632,  0.20000005],\n",
       "         [ 0.27058828,  0.2313726 ,  0.20784318]],\n",
       "\n",
       "        [[-0.19215685, -0.40392154, -0.47450978],\n",
       "         [-0.15294117, -0.3490196 , -0.38039213],\n",
       "         [-0.14509803, -0.3333333 , -0.40392154],\n",
       "         ...,\n",
       "         [ 0.20000005,  0.15294123,  0.15294123],\n",
       "         [ 0.254902  ,  0.22352946,  0.21568632],\n",
       "         [ 0.254902  ,  0.22352946,  0.21568632]]]], dtype=float32)"
      ]
     },
     "execution_count": 24,
     "metadata": {},
     "output_type": "execute_result"
    }
   ],
   "source": [
    "# display label on the image\n",
    "cv2.putText(image, label, (10, 10), cv2.FONT_HERSHEY_TRIPLEX, 0.7, color, 1)"
   ]
  },
  {
   "cell_type": "code",
   "execution_count": 25,
   "metadata": {},
   "outputs": [],
   "source": [
    "# show the output image\n",
    "#cv2.imshow(\"Mask Detector\", image)\n",
    "#cv2.waitKey(0) "
   ]
  },
  {
   "cell_type": "code",
   "execution_count": 26,
   "metadata": {},
   "outputs": [
    {
     "name": "stdout",
     "output_type": "stream",
     "text": [
      "...Saving Predicted Image...\n"
     ]
    },
    {
     "ename": "error",
     "evalue": "OpenCV(4.2.0) /io/opencv/modules/imgcodecs/src/loadsave.cpp:661: error: (-2:Unspecified error) could not find a writer for the specified extension in function 'imwrite_'\n",
     "output_type": "error",
     "traceback": [
      "\u001b[0;31m---------------------------------------------------------------------------\u001b[0m",
      "\u001b[0;31merror\u001b[0m                                     Traceback (most recent call last)",
      "\u001b[0;32m<ipython-input-26-dc547f746621>\u001b[0m in \u001b[0;36m<module>\u001b[0;34m\u001b[0m\n\u001b[1;32m      3\u001b[0m \u001b[0mfilepath\u001b[0m \u001b[0;34m=\u001b[0m \u001b[0;34m'../predicted_images/{}'\u001b[0m\u001b[0;34m.\u001b[0m\u001b[0mformat\u001b[0m\u001b[0;34m(\u001b[0m\u001b[0;34m'tyler_test'\u001b[0m\u001b[0;34m)\u001b[0m\u001b[0;34m\u001b[0m\u001b[0;34m\u001b[0m\u001b[0m\n\u001b[1;32m      4\u001b[0m \u001b[0;31m#print('The image path is {}'.format(filepath))\u001b[0m\u001b[0;34m\u001b[0m\u001b[0;34m\u001b[0m\u001b[0;34m\u001b[0m\u001b[0m\n\u001b[0;32m----> 5\u001b[0;31m \u001b[0mcv2\u001b[0m\u001b[0;34m.\u001b[0m\u001b[0mimwrite\u001b[0m\u001b[0;34m(\u001b[0m\u001b[0mfilepath\u001b[0m\u001b[0;34m,\u001b[0m \u001b[0mimage\u001b[0m\u001b[0;34m)\u001b[0m\u001b[0;34m\u001b[0m\u001b[0;34m\u001b[0m\u001b[0m\n\u001b[0m",
      "\u001b[0;31merror\u001b[0m: OpenCV(4.2.0) /io/opencv/modules/imgcodecs/src/loadsave.cpp:661: error: (-2:Unspecified error) could not find a writer for the specified extension in function 'imwrite_'\n"
     ]
    }
   ],
   "source": [
    "# save the image\n",
    "print('...Saving Predicted Image...')\n",
    "filepath = '../predicted_images/{}'.format('tyler_test')\n",
    "#print('The image path is {}'.format(filepath))\n",
    "cv2.imwrite(filepath, image)"
   ]
  },
  {
   "cell_type": "code",
   "execution_count": null,
   "metadata": {},
   "outputs": [],
   "source": []
  }
 ],
 "metadata": {
  "kernelspec": {
   "display_name": "Python 3",
   "language": "python",
   "name": "python3"
  },
  "language_info": {
   "codemirror_mode": {
    "name": "ipython",
    "version": 3
   },
   "file_extension": ".py",
   "mimetype": "text/x-python",
   "name": "python",
   "nbconvert_exporter": "python",
   "pygments_lexer": "ipython3",
   "version": "3.7.6"
  }
 },
 "nbformat": 4,
 "nbformat_minor": 4
}
